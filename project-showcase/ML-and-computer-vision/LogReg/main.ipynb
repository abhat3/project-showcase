{
 "cells": [
  {
   "cell_type": "code",
   "execution_count": 1,
   "metadata": {},
   "outputs": [],
   "source": [
    "# Import necessary libraries\n",
    "import numpy as np\n",
    "import pandas as pd\n",
    "import matplotlib.pyplot as plt\n",
    "import seaborn as sns\n",
    "from sklearn import preprocessing, model_selection, linear_model, metrics\n",
    "\n",
    "%matplotlib inline"
   ]
  },
  {
   "cell_type": "code",
   "execution_count": 2,
   "metadata": {},
   "outputs": [],
   "source": [
    "# Read the dataset from given source\n",
    "dataset = pd.read_csv(\"./wdbc.dataset\", header = None)"
   ]
  },
  {
   "cell_type": "code",
   "execution_count": 3,
   "metadata": {},
   "outputs": [
    {
     "data": {
      "text/plain": [
       "0"
      ]
     },
     "execution_count": 3,
     "metadata": {},
     "output_type": "execute_result"
    }
   ],
   "source": [
    "#check if dataset has any NULL (NaN) values\n",
    "dataset.isnull().sum().sum()"
   ]
  },
  {
   "cell_type": "code",
   "execution_count": 4,
   "metadata": {},
   "outputs": [],
   "source": [
    "# Drop id column as it is inconsequential to the result\n",
    "dataset.drop(dataset.columns[0], axis = 1, inplace=True)"
   ]
  },
  {
   "cell_type": "code",
   "execution_count": 5,
   "metadata": {},
   "outputs": [],
   "source": [
    "# Extract features and dependent variable\n",
    "X = dataset.iloc[:,1:].values\n",
    "y = dataset.iloc[:,0].values\n",
    "y = np.expand_dims(y, -1)"
   ]
  },
  {
   "cell_type": "code",
   "execution_count": 6,
   "metadata": {},
   "outputs": [],
   "source": [
    "# Convert categorical data to numeric because Logistic Regression cannot deal with categories\n",
    "# LabelEncoder(sklearn) can be used as well\n",
    "y = (y == 'M').astype('int')"
   ]
  },
  {
   "cell_type": "code",
   "execution_count": 7,
   "metadata": {},
   "outputs": [],
   "source": [
    "# Split data into training, validation and testing data\n",
    "# Fixing random state allows us to split the data the same way every time\n",
    "# This allows to see consistent results or rather same results every time we run the model\n",
    "# Remove random state field to randomize split each time and vary the model's predictions!\n",
    "X_train, X_test, y_train, y_test = model_selection.train_test_split(X, y, test_size = 0.2, random_state = 7)"
   ]
  },
  {
   "cell_type": "code",
   "execution_count": 8,
   "metadata": {},
   "outputs": [],
   "source": [
    "X_test, X_validate, y_test, y_validate = model_selection.train_test_split(X_test, y_test, test_size = 0.5, random_state = 7)"
   ]
  },
  {
   "cell_type": "code",
   "execution_count": 9,
   "metadata": {},
   "outputs": [],
   "source": [
    "lr = 0.01\n",
    "epoch = 10000\n",
    "\n",
    "# calculate mean and standard deviation of X_train which will be used to normalize data in our model\n",
    "X_mean = np.mean(X_train)\n",
    "X_std = np.std(X_train)\n",
    "\n",
    "# initialize weights and bias to zeros, can be randomized as well\n",
    "w = np.zeros((X_train.shape[1], 1))\n",
    "bias = np.zeros((1,))"
   ]
  },
  {
   "cell_type": "code",
   "execution_count": 10,
   "metadata": {},
   "outputs": [],
   "source": [
    "def normalizer(X):\n",
    "    # normalize data to have mean of 0 and standard deviation as 1\n",
    "    # We do this so that each feature is treated equally by the loss function\n",
    "    X = (X - X_mean) / X_std\n",
    "    return X"
   ]
  },
  {
   "cell_type": "code",
   "execution_count": 11,
   "metadata": {},
   "outputs": [],
   "source": [
    "def linear_equation(X, w, bias):\n",
    "    # calculate z = theta * X + bias\n",
    "    return np.dot(X, w) + bias"
   ]
  },
  {
   "cell_type": "code",
   "execution_count": 12,
   "metadata": {},
   "outputs": [],
   "source": [
    "def sigmoid(z):\n",
    "    # sigmoid function to squash the values between 0 & 1\n",
    "    return (1 / (1 + np.exp(-z)))"
   ]
  },
  {
   "cell_type": "code",
   "execution_count": 13,
   "metadata": {},
   "outputs": [],
   "source": [
    "def predict(X, w, bias):\n",
    "    # returns a list of predictions made by applying update weights to the above described functions\n",
    "    X = normalizer(X)\n",
    "    return (sigmoid(linear_equation(X, w, bias)) >= 0.5).astype(int)"
   ]
  },
  {
   "cell_type": "code",
   "execution_count": 14,
   "metadata": {},
   "outputs": [],
   "source": [
    "def calc_loss(X, y, w, bias):\n",
    "    # calculating loss defined by cross-entropy\n",
    "    z = linear_equation(X, w, bias)\n",
    "    probabilities = sigmoid(z)\n",
    "\n",
    "    #adding very small weights to log function so log(0) error can be avoided\n",
    "    return -np.mean((y * np.log(probabilities + 1e-16)) + ((1-y) * np.log((1 - probabilities) + 1e-16)))"
   ]
  },
  {
   "cell_type": "code",
   "execution_count": 15,
   "metadata": {},
   "outputs": [],
   "source": [
    "def get_weights(X, y, w, bias):\n",
    "    \n",
    "    # initialize accuracy list, loss for validation and training data\n",
    "    acc = []\n",
    "    loss_val = []\n",
    "    loss_train = []\n",
    "    \n",
    "    X = normalizer(X)\n",
    "\n",
    "    for ep in range(epoch):\n",
    "        z = linear_equation(X, w, bias)\n",
    "        probabilities = sigmoid(z)\n",
    "\n",
    "        intermediate = probabilities - y\n",
    "\n",
    "        # Subtract gradients from initialized weights to update them\n",
    "        # We do this so that they move towards the minima where accuracy is highest\n",
    "        delta_w = np.mean(intermediate * X)\n",
    "        delta_bias = np.mean(intermediate)\n",
    "\n",
    "        w = w - lr * delta_w\n",
    "        bias = bias - lr * delta_bias\n",
    "\n",
    "        # Validate data and update accuracy list\n",
    "        acc.append(np.mean(predict(X_validate, w, bias) == y_validate))\n",
    "\n",
    "        # Calculate loss for each epoch with respect to validation data and training data\n",
    "        loss_val.append(calc_loss(normalizer(X_validate), y_validate, w, bias))\n",
    "        loss_train.append(calc_loss(X, y, w, bias))\n",
    "    return w, bias, acc, loss_val, loss_train"
   ]
  },
  {
   "cell_type": "code",
   "execution_count": 16,
   "metadata": {},
   "outputs": [],
   "source": [
    "# get final weights and losses calculated \n",
    "w_final, bias_final, acc, loss_val, loss_train = get_weights(X_train, y_train, w, bias)"
   ]
  },
  {
   "cell_type": "code",
   "execution_count": 17,
   "metadata": {},
   "outputs": [
    {
     "name": "stdout",
     "output_type": "stream",
     "text": [
      "Accuracy on test data = 92.98\n"
     ]
    }
   ],
   "source": [
    "# make prediction on test set and calc accuracy\n",
    "y_pred = predict(X_test, w_final, bias_final)\n",
    "accuracy = np.mean(y_pred == y_test)\n",
    "print(\"Accuracy on test data = {:.2f}\".format(accuracy * 100))"
   ]
  },
  {
   "cell_type": "code",
   "execution_count": 18,
   "metadata": {},
   "outputs": [
    {
     "data": {
      "text/plain": [
       "24.56090765860316"
      ]
     },
     "execution_count": 18,
     "metadata": {},
     "output_type": "execute_result"
    }
   ],
   "source": [
    "# calc loss for test set\n",
    "calc_loss(X_test, y_test, w_final, bias_final)"
   ]
  },
  {
   "cell_type": "code",
   "execution_count": 19,
   "metadata": {},
   "outputs": [
    {
     "data": {
      "image/png": "[encoded data removed]",
      "text/plain": [
       "<Figure size 432x288 with 1 Axes>"
      ]
     },
     "metadata": {
      "needs_background": "light"
     },
     "output_type": "display_data"
    }
   ],
   "source": [
    "# plot accuracy vs epoch\n",
    "plt.plot([x for x in range(len(acc))], acc)\n",
    "plt.xlabel(\"Epoch\")\n",
    "plt.ylabel(\"Accuracy\")\n",
    "plt.show()"
   ]
  },
  {
   "cell_type": "code",
   "execution_count": 20,
   "metadata": {},
   "outputs": [
    {
     "data": {
      "image/png": "[encoded data removed]",
      "text/plain": [
       "<Figure size 432x288 with 1 Axes>"
      ]
     },
     "metadata": {
      "needs_background": "light"
     },
     "output_type": "display_data"
    }
   ],
   "source": [
    "# plot training loss vs epoch\n",
    "plt.plot([x for x in range(len(loss_train))], loss_train)\n",
    "plt.xlabel(\"Epoch\")\n",
    "plt.ylabel(\"Training Loss\")\n",
    "plt.show()"
   ]
  },
  {
   "cell_type": "code",
   "execution_count": 21,
   "metadata": {},
   "outputs": [
    {
     "data": {
      "image/png": "[encoded data removed]",
      "text/plain": [
       "<Figure size 432x288 with 1 Axes>"
      ]
     },
     "metadata": {
      "needs_background": "light"
     },
     "output_type": "display_data"
    }
   ],
   "source": [
    "# plot validation loss vs epoch\n",
    "plt.plot([x for x in range(len(loss_val))], loss_val)\n",
    "plt.xlabel(\"Epoch\")\n",
    "plt.ylabel(\"Validation Loss\")\n",
    "plt.show()"
   ]
  },
  {
   "cell_type": "code",
   "execution_count": 22,
   "metadata": {},
   "outputs": [
    {
     "data": {
      "image/png": "[encoded data removed]",
      "text/plain": [
       "<Figure size 432x288 with 1 Axes>"
      ]
     },
     "metadata": {
      "needs_background": "light"
     },
     "output_type": "display_data"
    }
   ],
   "source": [
    "# plot both training loss and valdation loss in the same graph \n",
    "plt.plot([x for x in range(len(loss_train))], loss_train, label = \"Training Loss\")\n",
    "plt.plot([x for x in range(len(loss_val))], loss_val, label = \"Validation Loss\")\n",
    "plt.xlabel(\"Epoch\")\n",
    "plt.ylabel(\"Loss\")\n",
    "plt.legend()\n",
    "plt.show()"
   ]
  },
  {
   "cell_type": "code",
   "execution_count": 23,
   "metadata": {},
   "outputs": [],
   "source": [
    "# confusion matrix to find True Positives, True Negatives, False Positives, False Negatives\n",
    "cm = metrics.confusion_matrix(y_test, y_pred)"
   ]
  },
  {
   "cell_type": "code",
   "execution_count": 24,
   "metadata": {},
   "outputs": [],
   "source": [
    "TP, FP, FN, TN = cm[0][0], cm[0][1], cm[1][0], cm[1][1] "
   ]
  },
  {
   "cell_type": "code",
   "execution_count": 25,
   "metadata": {},
   "outputs": [],
   "source": [
    "accuracy = (TP + TN) / (TP + TN + FP + FN)"
   ]
  },
  {
   "cell_type": "code",
   "execution_count": 26,
   "metadata": {},
   "outputs": [],
   "source": [
    "precision = (TP) / (TP + FP)"
   ]
  },
  {
   "cell_type": "code",
   "execution_count": 27,
   "metadata": {},
   "outputs": [],
   "source": [
    "recall = (TP) / (TP + FN)"
   ]
  },
  {
   "cell_type": "code",
   "execution_count": 29,
   "metadata": {},
   "outputs": [
    {
     "data": {
      "text/plain": [
       "(38, 0, 4, 15)"
      ]
     },
     "execution_count": 29,
     "metadata": {},
     "output_type": "execute_result"
    }
   ],
   "source": [
    "TP, FP, FN, TN"
   ]
  },
  {
   "cell_type": "code",
   "execution_count": 28,
   "metadata": {},
   "outputs": [
    {
     "name": "stdout",
     "output_type": "stream",
     "text": [
      "Accuracy: 0.9298245614035088, Precision: 1.0, Recall: 0.9047619047619048\n"
     ]
    }
   ],
   "source": [
    "print(\"Accuracy: {0}, Precision: {1}, Recall: {2}\".format(accuracy, precision, recall))"
   ]
  },
  {
   "cell_type": "code",
   "execution_count": null,
   "metadata": {},
   "outputs": [],
   "source": []
  }
 ],
 "metadata": {
  "kernelspec": {
   "display_name": "Python 3",
   "language": "python",
   "name": "python3"
  },
  "language_info": {
   "codemirror_mode": {
    "name": "ipython",
    "version": 3
   },
   "file_extension": ".py",
   "mimetype": "text/x-python",
   "name": "python",
   "nbconvert_exporter": "python",
   "pygments_lexer": "ipython3",
   "version": "3.7.3"
  }
 },
 "nbformat": 4,
 "nbformat_minor": 2
}
