{
 "cells": [
  {
   "cell_type": "code",
   "execution_count": 1,
   "metadata": {},
   "outputs": [],
   "source": [
    "# Read Fashion MNIST dataset\n",
    "\n",
    "import util_mnist_reader\n",
    "X_train, y_train = util_mnist_reader.load_mnist('../data/fashion', kind='train')\n",
    "X_test, y_test = util_mnist_reader.load_mnist('../data/fashion', kind='t10k')"
   ]
  },
  {
   "cell_type": "code",
   "execution_count": 2,
   "metadata": {},
   "outputs": [],
   "source": [
    "# import necessary libraries here\n",
    "import numpy as np\n",
    "import pandas as pd\n",
    "from sklearn import model_selection, metrics\n",
    "import matplotlib.pyplot as plt\n",
    "import time\n",
    "\n",
    "%matplotlib inline"
   ]
  },
  {
   "cell_type": "markdown",
   "metadata": {},
   "source": [
    "## Neural Network with one hidden layer from scratch"
   ]
  },
  {
   "cell_type": "code",
   "execution_count": 3,
   "metadata": {},
   "outputs": [],
   "source": [
    "# use train_test_split to extract a small portion of training data for validation as well\n",
    "X_train1, X_val, y_train1, y_val = model_selection.train_test_split(X_train, y_train, test_size = 0.05, random_state = 7)"
   ]
  },
  {
   "cell_type": "code",
   "execution_count": 4,
   "metadata": {},
   "outputs": [],
   "source": [
    "num_samples, input_columns, num_hidden, num_classes = X_train1.shape[0], X_train1.shape[1], 10, 10\n",
    "# seed to generate the same random weights each time the model is initialized\n",
    "# it can be changed to get different weights\n",
    "np.random.seed(0)\n",
    "# we mulitply the random values by 'He inititialization hueristic' \n",
    "# to avoid log(0) problems and the vanishing gradient\n",
    "W1 = np.sqrt(2/num_samples) * np.random.randn(input_columns, num_hidden)\n",
    "b1 = np.zeros((1, num_hidden))\n",
    "W2 = np.sqrt(2/num_samples) * np.random.randn(num_hidden, num_classes)\n",
    "b2 = np.zeros((1, num_classes))"
   ]
  },
  {
   "cell_type": "code",
   "execution_count": 5,
   "metadata": {},
   "outputs": [],
   "source": [
    "def ReLU(X):\n",
    "    # leaky ReLU to avoid the problem of dying ReLU where the ReLU does not help in learning when the weights\n",
    "    # of a neuron in the hidden layer become negative\n",
    "    # value of omega can be arbitrarily selected, it is usually something small \n",
    "    omega = 0.02\n",
    "    return np.maximum(omega*X, X)"
   ]
  },
  {
   "cell_type": "code",
   "execution_count": 6,
   "metadata": {},
   "outputs": [],
   "source": [
    "def softmax(X):\n",
    "    # calculate stable softmax by normalizing the values with respect to the max in a particular row \n",
    "    # i.e., max in a row is the max value of a pixel in one sample\n",
    "    # NOTE that calculating the max or the sum along axis 0 would lead to wrong computation of the softmax\n",
    "    # because we would be calculating column wise which makes no sense \n",
    "    # each row is one sample(which is what we want)\n",
    "    # and each column is one pixel of all samples(we do not want this!)\n",
    "    exps = np.exp(X - np.max(X, axis=1, keepdims=True))\n",
    "    return exps / np.sum(exps, axis=1, keepdims=True)"
   ]
  },
  {
   "cell_type": "code",
   "execution_count": 7,
   "metadata": {},
   "outputs": [],
   "source": [
    "def forward_pass(X):\n",
    "    # calculate hidden layer activation and output layer activation\n",
    "    z1 = np.dot(X, W1) + b1\n",
    "    a1 = ReLU(z1)\n",
    "    z2 = np.dot(a1, W2) + b2\n",
    "    a2 = softmax(z2)\n",
    "    return a1, a2"
   ]
  },
  {
   "cell_type": "code",
   "execution_count": 8,
   "metadata": {},
   "outputs": [],
   "source": [
    "def calc_loss(fp_result, y):\n",
    "    num_samples = y.shape[0]\n",
    "    # calculate loss for the softmax function \n",
    "    # NOTE multidimensional array indexing to calculate loss only for relevant class categories of each sample\n",
    "    log_likelihood = -np.log(fp_result[range(num_samples), y])\n",
    "    loss = np.sum(log_likelihood) / num_samples\n",
    "    return loss"
   ]
  },
  {
   "cell_type": "code",
   "execution_count": 9,
   "metadata": {},
   "outputs": [],
   "source": [
    "def backPropagation(X, y, activation1_result, fp_result):\n",
    "    num_samples = X.shape[0]\n",
    "\n",
    "    # gradient of loss function: \n",
    "    # We exploit multidimensional array indexing instead of having to one hot encode y \n",
    "    # and then subtract its value from the relevant class\n",
    "\n",
    "    # the equations used below are taken from :\n",
    "    # https://cs230.stanford.edu/files/C1M3.pdf\n",
    "    fp_result[range(num_samples), y] -= 1\n",
    "    fp_result = fp_result / num_samples\n",
    "\n",
    "    # calculate gradients of the weights and biases of each layer and return them\n",
    "    dz2 = fp_result\n",
    "\n",
    "    dW2 = np.dot(activation1_result.T, dz2)\n",
    "    db2 = np.sum(dz2, axis=0, keepdims=True)\n",
    "\n",
    "    # the gradient of a ReLU is 0 for values less than or 0, and 1 for values greater than 0\n",
    "    dz1 = np.dot(dz2, W2.T)\n",
    "    dz1[activation1_result <= 0] = 0 \n",
    "\n",
    "    dW1 = np.dot(X.T, dz1)\n",
    "    db1 = np.sum(dz1, axis=0, keepdims=True)\n",
    "\n",
    "    return dW1, db1, dW2, db2"
   ]
  },
  {
   "cell_type": "code",
   "execution_count": 10,
   "metadata": {},
   "outputs": [],
   "source": [
    "def train_model(X, y, X_val, y_val, W1, W2, b1, b2, epochs = 10, learning_rate = 0.0003, batch_size = 32):\n",
    "    start = time.time()\n",
    "    train_loss = []\n",
    "    loss = 0\n",
    "    validation_acc = []\n",
    "    num_samples = X.shape[0]\n",
    "    num_batches = int(num_samples / batch_size)\n",
    "    X_batch = None\n",
    "    y_batch = None\n",
    "    for epoch in range(epochs):\n",
    "        # seed for choosing random idx \n",
    "        np.random.seed(epoch)\n",
    "        for i in range(num_batches):\n",
    "            # select random idx of size batch_size and create batches\n",
    "            random_idx = np.random.choice(num_samples, batch_size, replace=False)\n",
    "            X_batch = X[random_idx,:]\n",
    "            y_batch = y[random_idx]\n",
    "            activation1_result, fp_result = forward_pass(X_batch)\n",
    "            loss = calc_loss(fp_result, y_batch)\n",
    "            dW1, db1, dW2, db2 = backPropagation(X_batch, y_batch, activation1_result, fp_result)\n",
    "\n",
    "            # update the weights and biases after one full pass i.e., 1 forward pass + 1 back pass\n",
    "            W1 -= learning_rate * dW1\n",
    "            b1 -= learning_rate * db1\n",
    "            W2 -= learning_rate * dW2\n",
    "            b2 -= learning_rate * db2\n",
    "\n",
    "        train_loss.append(loss)\n",
    "        validation_acc.append((predict(X_val) == y_val).mean())\n",
    "\n",
    "    print(\"Total time taken = {0}s\".format(round(time.time()-start)))  \n",
    "    return train_loss, validation_acc"
   ]
  },
  {
   "cell_type": "code",
   "execution_count": 11,
   "metadata": {},
   "outputs": [],
   "source": [
    "def predict(X):\n",
    "    a1, a2 = forward_pass(X)\n",
    "    # find the index at which probabiltity is highest, that is the winning class\n",
    "    y_pred = np.argmax(a2, axis=1)\n",
    "    return y_pred"
   ]
  },
  {
   "cell_type": "code",
   "execution_count": 12,
   "metadata": {},
   "outputs": [
    {
     "name": "stdout",
     "output_type": "stream",
     "text": [
      "Total time taken = 24s\n"
     ]
    }
   ],
   "source": [
    "loss, val_acc = train_model(X_train1, y_train1, X_val, y_val, W1, W2, b1, b2)"
   ]
  },
  {
   "cell_type": "code",
   "execution_count": 13,
   "metadata": {},
   "outputs": [
    {
     "name": "stdout",
     "output_type": "stream",
     "text": [
      "Test accuracy: 83.37%\n"
     ]
    }
   ],
   "source": [
    "y_pred = predict(X_test)\n",
    "acc = (y_pred == y_test).mean()\n",
    "print(\"Test accuracy: {0}%\".format(acc*100))"
   ]
  },
  {
   "cell_type": "code",
   "execution_count": 14,
   "metadata": {
    "scrolled": true
   },
   "outputs": [
    {
     "data": {
      "image/png": "[encoded data removed]",
      "text/plain": [
       "<Figure size 432x288 with 1 Axes>"
      ]
     },
     "metadata": {
      "needs_background": "light"
     },
     "output_type": "display_data"
    }
   ],
   "source": [
    "# plot training loss vs epoch\n",
    "plt.plot([x for x in range(0,len(loss))], loss)\n",
    "plt.xlabel(\"Epoch\")\n",
    "plt.ylabel(\"Training Loss\")\n",
    "plt.show()"
   ]
  },
  {
   "cell_type": "code",
   "execution_count": 15,
   "metadata": {},
   "outputs": [
    {
     "data": {
      "image/png": "[encoded data removed]",
      "text/plain": [
       "<Figure size 432x288 with 1 Axes>"
      ]
     },
     "metadata": {
      "needs_background": "light"
     },
     "output_type": "display_data"
    }
   ],
   "source": [
    "# plot validation accuracy vs epoch\n",
    "plt.plot([x for x in range(0,len(val_acc))], val_acc)\n",
    "plt.xlabel(\"Epoch\")\n",
    "plt.ylabel(\"Validation Accuracy\")\n",
    "plt.show()"
   ]
  },
  {
   "cell_type": "code",
   "execution_count": 16,
   "metadata": {},
   "outputs": [
    {
     "name": "stdout",
     "output_type": "stream",
     "text": [
      "Confusion Matrix:\n",
      "[[808   8  18  33   2   0 122   0   9   0]\n",
      " [  7 953   9  26   4   0   1   0   0   0]\n",
      " [ 19   2 788   7  78   0 102   0   4   0]\n",
      " [ 41  13  18 828  42   0  55   0   3   0]\n",
      " [  0   1 176  24 628   0 171   0   0   0]\n",
      " [  1   0   0   1   0 892   0  52  11  43]\n",
      " [141   2 115  23  52   0 660   0   7   0]\n",
      " [  0   0   0   0   0  20   0 928   1  51]\n",
      " [  5   2  16   7   6   3  51   4 904   2]\n",
      " [  0   0   0   0   0   9   1  41   1 948]]\n"
     ]
    }
   ],
   "source": [
    "# Confusion matrix\n",
    "cm = metrics.confusion_matrix(y_test, y_pred)\n",
    "print(\"Confusion Matrix:\")\n",
    "print(cm)"
   ]
  },
  {
   "cell_type": "markdown",
   "metadata": {},
   "source": [
    "## Multi-layer Neural Network using Keras (TensorFlow backend)"
   ]
  },
  {
   "cell_type": "code",
   "execution_count": 17,
   "metadata": {},
   "outputs": [
    {
     "name": "stderr",
     "output_type": "stream",
     "text": [
      "Using TensorFlow backend.\n"
     ]
    }
   ],
   "source": [
    "import keras"
   ]
  },
  {
   "cell_type": "code",
   "execution_count": 18,
   "metadata": {},
   "outputs": [],
   "source": [
    "# Multi-layer neural network with 3 hidden layers with ReLU activation \n",
    "model = keras.Sequential([\n",
    "    keras.layers.Dense(128, activation='relu'),\n",
    "    keras.layers.Dense(64, activation='relu'),\n",
    "    keras.layers.Dense(32, activation='relu'),\n",
    "    keras.layers.Dense(10, activation='softmax')\n",
    "])\n",
    "# use stochastic gradient descent as optimizer\n",
    "sgd = keras.optimizers.SGD(learning_rate=0.0005)\n",
    "model.compile(optimizer=sgd,\n",
    "              loss='sparse_categorical_crossentropy',\n",
    "              metrics=['accuracy'])"
   ]
  },
  {
   "cell_type": "code",
   "execution_count": 19,
   "metadata": {},
   "outputs": [
    {
     "name": "stdout",
     "output_type": "stream",
     "text": [
      "Train on 57000 samples, validate on 3000 samples\n",
      "Epoch 1/100\n",
      "57000/57000 [==============================] - 2s 32us/step - loss: 2.0021 - accuracy: 0.3660 - val_loss: 1.6047 - val_accuracy: 0.4210\n",
      "Epoch 2/100\n",
      "57000/57000 [==============================] - 2s 30us/step - loss: 1.5419 - accuracy: 0.4471 - val_loss: 1.5969 - val_accuracy: 0.4127\n",
      "Epoch 3/100\n",
      "57000/57000 [==============================] - 2s 29us/step - loss: 1.4840 - accuracy: 0.4568 - val_loss: 1.4972 - val_accuracy: 0.4410\n",
      "Epoch 4/100\n",
      "57000/57000 [==============================] - 2s 31us/step - loss: 1.4300 - accuracy: 0.4631 - val_loss: 1.2733 - val_accuracy: 0.5407\n",
      "Epoch 5/100\n",
      "57000/57000 [==============================] - 2s 36us/step - loss: 1.2051 - accuracy: 0.5579 - val_loss: 1.2070 - val_accuracy: 0.5477\n",
      "Epoch 6/100\n",
      "57000/57000 [==============================] - 2s 33us/step - loss: 1.1550 - accuracy: 0.5641 - val_loss: 1.1716 - val_accuracy: 0.5547\n",
      "Epoch 7/100\n",
      "57000/57000 [==============================] - 2s 30us/step - loss: 1.1235 - accuracy: 0.5714 - val_loss: 1.1415 - val_accuracy: 0.5580\n",
      "Epoch 8/100\n",
      "57000/57000 [==============================] - 2s 30us/step - loss: 1.0950 - accuracy: 0.5784 - val_loss: 1.1264 - val_accuracy: 0.5683\n",
      "Epoch 9/100\n",
      "57000/57000 [==============================] - 2s 31us/step - loss: 1.0711 - accuracy: 0.5827 - val_loss: 1.1069 - val_accuracy: 0.5730\n",
      "Epoch 10/100\n",
      "57000/57000 [==============================] - 2s 29us/step - loss: 1.0476 - accuracy: 0.5901 - val_loss: 1.0903 - val_accuracy: 0.5777\n",
      "Epoch 11/100\n",
      "57000/57000 [==============================] - 2s 29us/step - loss: 1.0289 - accuracy: 0.5974 - val_loss: 1.0788 - val_accuracy: 0.5790\n",
      "Epoch 12/100\n",
      "57000/57000 [==============================] - 2s 29us/step - loss: 1.0108 - accuracy: 0.6036 - val_loss: 1.0487 - val_accuracy: 0.5827\n",
      "Epoch 13/100\n",
      "57000/57000 [==============================] - 2s 29us/step - loss: 0.9941 - accuracy: 0.6119 - val_loss: 1.0388 - val_accuracy: 0.5853\n",
      "Epoch 14/100\n",
      "57000/57000 [==============================] - 2s 29us/step - loss: 0.9780 - accuracy: 0.6201 - val_loss: 1.0470 - val_accuracy: 0.6140\n",
      "Epoch 15/100\n",
      "57000/57000 [==============================] - 2s 30us/step - loss: 0.9642 - accuracy: 0.6269 - val_loss: 1.0124 - val_accuracy: 0.6037\n",
      "Epoch 16/100\n",
      "57000/57000 [==============================] - 2s 31us/step - loss: 0.9503 - accuracy: 0.6341 - val_loss: 1.0010 - val_accuracy: 0.6197\n",
      "Epoch 17/100\n",
      "57000/57000 [==============================] - 2s 30us/step - loss: 0.9368 - accuracy: 0.6411 - val_loss: 0.9876 - val_accuracy: 0.6087\n",
      "Epoch 18/100\n",
      "57000/57000 [==============================] - 2s 29us/step - loss: 0.9249 - accuracy: 0.6461 - val_loss: 0.9759 - val_accuracy: 0.6207\n",
      "Epoch 19/100\n",
      "57000/57000 [==============================] - 2s 28us/step - loss: 0.9132 - accuracy: 0.6503 - val_loss: 0.9700 - val_accuracy: 0.6330\n",
      "Epoch 20/100\n",
      "57000/57000 [==============================] - 2s 28us/step - loss: 0.9004 - accuracy: 0.6516 - val_loss: 0.9448 - val_accuracy: 0.6363\n",
      "Epoch 21/100\n",
      "57000/57000 [==============================] - 2s 29us/step - loss: 0.8736 - accuracy: 0.6542 - val_loss: 0.9093 - val_accuracy: 0.6543\n",
      "Epoch 22/100\n",
      "57000/57000 [==============================] - 2s 29us/step - loss: 0.7773 - accuracy: 0.7082 - val_loss: 0.8049 - val_accuracy: 0.7223\n",
      "Epoch 23/100\n",
      "57000/57000 [==============================] - 2s 29us/step - loss: 0.7276 - accuracy: 0.7383 - val_loss: 0.7909 - val_accuracy: 0.7163\n",
      "Epoch 24/100\n",
      "57000/57000 [==============================] - 2s 29us/step - loss: 0.7027 - accuracy: 0.7438 - val_loss: 0.7824 - val_accuracy: 0.7163\n",
      "Epoch 25/100\n",
      "57000/57000 [==============================] - 2s 29us/step - loss: 0.6858 - accuracy: 0.7472 - val_loss: 0.7460 - val_accuracy: 0.7320\n",
      "Epoch 26/100\n",
      "57000/57000 [==============================] - 2s 29us/step - loss: 0.6700 - accuracy: 0.7509 - val_loss: 0.7259 - val_accuracy: 0.7427\n",
      "Epoch 27/100\n",
      "57000/57000 [==============================] - 2s 29us/step - loss: 0.6569 - accuracy: 0.7536 - val_loss: 0.7157 - val_accuracy: 0.7437\n",
      "Epoch 28/100\n",
      "57000/57000 [==============================] - 2s 29us/step - loss: 0.6438 - accuracy: 0.7641 - val_loss: 0.7096 - val_accuracy: 0.7593\n",
      "Epoch 29/100\n",
      "57000/57000 [==============================] - 2s 30us/step - loss: 0.6273 - accuracy: 0.7827 - val_loss: 0.7070 - val_accuracy: 0.7630\n",
      "Epoch 30/100\n",
      "57000/57000 [==============================] - 2s 33us/step - loss: 0.6092 - accuracy: 0.7962 - val_loss: 0.6963 - val_accuracy: 0.7640\n",
      "Epoch 31/100\n",
      "57000/57000 [==============================] - 2s 30us/step - loss: 0.5949 - accuracy: 0.8017 - val_loss: 0.7175 - val_accuracy: 0.7140\n",
      "Epoch 32/100\n",
      "57000/57000 [==============================] - 2s 29us/step - loss: 0.5828 - accuracy: 0.8056 - val_loss: 0.6530 - val_accuracy: 0.7933\n",
      "Epoch 33/100\n",
      "57000/57000 [==============================] - 2s 30us/step - loss: 0.5736 - accuracy: 0.8080 - val_loss: 0.6539 - val_accuracy: 0.7853\n",
      "Epoch 34/100\n",
      "57000/57000 [==============================] - 2s 31us/step - loss: 0.5645 - accuracy: 0.8112 - val_loss: 0.6453 - val_accuracy: 0.7900\n",
      "Epoch 35/100\n",
      "57000/57000 [==============================] - 2s 30us/step - loss: 0.5564 - accuracy: 0.8131 - val_loss: 0.6350 - val_accuracy: 0.7910\n",
      "Epoch 36/100\n",
      "57000/57000 [==============================] - 2s 30us/step - loss: 0.5483 - accuracy: 0.8142 - val_loss: 0.6305 - val_accuracy: 0.7920\n",
      "Epoch 37/100\n",
      "57000/57000 [==============================] - 2s 38us/step - loss: 0.5400 - accuracy: 0.8165 - val_loss: 0.6811 - val_accuracy: 0.7687\n",
      "Epoch 38/100\n",
      "57000/57000 [==============================] - 2s 30us/step - loss: 0.5340 - accuracy: 0.8196 - val_loss: 0.6142 - val_accuracy: 0.7980\n",
      "Epoch 39/100\n",
      "57000/57000 [==============================] - 2s 29us/step - loss: 0.5255 - accuracy: 0.8221 - val_loss: 0.6430 - val_accuracy: 0.7900\n",
      "Epoch 40/100\n",
      "57000/57000 [==============================] - 2s 31us/step - loss: 0.5181 - accuracy: 0.8255 - val_loss: 0.6060 - val_accuracy: 0.8000\n",
      "Epoch 41/100\n",
      "57000/57000 [==============================] - 2s 33us/step - loss: 0.5091 - accuracy: 0.8326 - val_loss: 0.6044 - val_accuracy: 0.8030\n",
      "Epoch 42/100\n",
      "57000/57000 [==============================] - 2s 30us/step - loss: 0.4837 - accuracy: 0.8370 - val_loss: 0.5669 - val_accuracy: 0.8153\n",
      "Epoch 43/100\n",
      "57000/57000 [==============================] - 2s 28us/step - loss: 0.4605 - accuracy: 0.8431 - val_loss: 0.5591 - val_accuracy: 0.8213\n",
      "Epoch 44/100\n",
      "57000/57000 [==============================] - 2s 29us/step - loss: 0.4416 - accuracy: 0.8472 - val_loss: 0.5494 - val_accuracy: 0.8200\n",
      "Epoch 45/100\n",
      "57000/57000 [==============================] - 2s 29us/step - loss: 0.4192 - accuracy: 0.8506 - val_loss: 0.5195 - val_accuracy: 0.8277\n",
      "Epoch 46/100\n",
      "57000/57000 [==============================] - 2s 32us/step - loss: 0.4053 - accuracy: 0.8529 - val_loss: 0.5563 - val_accuracy: 0.8100\n",
      "Epoch 47/100\n",
      "57000/57000 [==============================] - 2s 33us/step - loss: 0.3957 - accuracy: 0.8560 - val_loss: 0.5063 - val_accuracy: 0.8260\n",
      "Epoch 48/100\n",
      "57000/57000 [==============================] - 2s 29us/step - loss: 0.3875 - accuracy: 0.8595 - val_loss: 0.4856 - val_accuracy: 0.8337\n",
      "Epoch 49/100\n",
      "57000/57000 [==============================] - 2s 28us/step - loss: 0.3808 - accuracy: 0.8621 - val_loss: 0.4973 - val_accuracy: 0.8300\n",
      "Epoch 50/100\n",
      "57000/57000 [==============================] - 2s 28us/step - loss: 0.3739 - accuracy: 0.8641 - val_loss: 0.4818 - val_accuracy: 0.8337\n",
      "Epoch 51/100\n",
      "57000/57000 [==============================] - 2s 28us/step - loss: 0.3683 - accuracy: 0.8669 - val_loss: 0.4884 - val_accuracy: 0.8313\n",
      "Epoch 52/100\n",
      "57000/57000 [==============================] - 2s 28us/step - loss: 0.3616 - accuracy: 0.8681 - val_loss: 0.4992 - val_accuracy: 0.8300\n",
      "Epoch 53/100\n",
      "57000/57000 [==============================] - 2s 28us/step - loss: 0.3577 - accuracy: 0.8704 - val_loss: 0.4766 - val_accuracy: 0.8397\n",
      "Epoch 54/100\n",
      "57000/57000 [==============================] - 2s 30us/step - loss: 0.3525 - accuracy: 0.8717 - val_loss: 0.4657 - val_accuracy: 0.8413\n",
      "Epoch 55/100\n",
      "57000/57000 [==============================] - 2s 33us/step - loss: 0.3473 - accuracy: 0.8733 - val_loss: 0.4718 - val_accuracy: 0.8423\n"
     ]
    },
    {
     "name": "stdout",
     "output_type": "stream",
     "text": [
      "Epoch 56/100\n",
      "57000/57000 [==============================] - 2s 28us/step - loss: 0.3437 - accuracy: 0.8756 - val_loss: 0.4595 - val_accuracy: 0.8480\n",
      "Epoch 57/100\n",
      "57000/57000 [==============================] - 2s 28us/step - loss: 0.3392 - accuracy: 0.8765 - val_loss: 0.4801 - val_accuracy: 0.8427\n",
      "Epoch 58/100\n",
      "57000/57000 [==============================] - 2s 28us/step - loss: 0.3358 - accuracy: 0.8780 - val_loss: 0.4750 - val_accuracy: 0.8463\n",
      "Epoch 59/100\n",
      "57000/57000 [==============================] - 2s 28us/step - loss: 0.3325 - accuracy: 0.8786 - val_loss: 0.4861 - val_accuracy: 0.8390\n",
      "Epoch 60/100\n",
      "57000/57000 [==============================] - 2s 28us/step - loss: 0.3287 - accuracy: 0.8805 - val_loss: 0.4765 - val_accuracy: 0.8430\n",
      "Epoch 61/100\n",
      "57000/57000 [==============================] - 2s 30us/step - loss: 0.3247 - accuracy: 0.8811 - val_loss: 0.4645 - val_accuracy: 0.8457\n",
      "Epoch 62/100\n",
      "57000/57000 [==============================] - 2s 31us/step - loss: 0.3211 - accuracy: 0.8825 - val_loss: 0.4645 - val_accuracy: 0.8447\n",
      "Epoch 63/100\n",
      "57000/57000 [==============================] - 2s 30us/step - loss: 0.3190 - accuracy: 0.8840 - val_loss: 0.5190 - val_accuracy: 0.8323\n",
      "Epoch 64/100\n",
      "57000/57000 [==============================] - 2s 30us/step - loss: 0.3150 - accuracy: 0.8849 - val_loss: 0.4645 - val_accuracy: 0.8367\n",
      "Epoch 65/100\n",
      "57000/57000 [==============================] - 2s 30us/step - loss: 0.3124 - accuracy: 0.8858 - val_loss: 0.4831 - val_accuracy: 0.8400\n",
      "Epoch 66/100\n",
      "57000/57000 [==============================] - 2s 29us/step - loss: 0.3093 - accuracy: 0.8873 - val_loss: 0.4625 - val_accuracy: 0.8477\n",
      "Epoch 67/100\n",
      "57000/57000 [==============================] - 2s 29us/step - loss: 0.3074 - accuracy: 0.8871 - val_loss: 0.4699 - val_accuracy: 0.8407\n",
      "Epoch 68/100\n",
      "57000/57000 [==============================] - 2s 29us/step - loss: 0.3042 - accuracy: 0.8887 - val_loss: 0.4540 - val_accuracy: 0.8490\n",
      "Epoch 69/100\n",
      "57000/57000 [==============================] - 2s 29us/step - loss: 0.3019 - accuracy: 0.8906 - val_loss: 0.4518 - val_accuracy: 0.8503\n",
      "Epoch 70/100\n",
      "57000/57000 [==============================] - 2s 29us/step - loss: 0.2986 - accuracy: 0.8904 - val_loss: 0.4569 - val_accuracy: 0.8517\n",
      "Epoch 71/100\n",
      "57000/57000 [==============================] - 2s 29us/step - loss: 0.2969 - accuracy: 0.8919 - val_loss: 0.4715 - val_accuracy: 0.8450\n",
      "Epoch 72/100\n",
      "57000/57000 [==============================] - 2s 29us/step - loss: 0.2956 - accuracy: 0.8922 - val_loss: 0.4710 - val_accuracy: 0.8510\n",
      "Epoch 73/100\n",
      "57000/57000 [==============================] - 2s 29us/step - loss: 0.2924 - accuracy: 0.8927 - val_loss: 0.5248 - val_accuracy: 0.8237\n",
      "Epoch 74/100\n",
      "57000/57000 [==============================] - 2s 30us/step - loss: 0.2903 - accuracy: 0.8936 - val_loss: 0.4737 - val_accuracy: 0.8493\n",
      "Epoch 75/100\n",
      "57000/57000 [==============================] - 2s 30us/step - loss: 0.2888 - accuracy: 0.8932 - val_loss: 0.4591 - val_accuracy: 0.8517\n",
      "Epoch 76/100\n",
      "57000/57000 [==============================] - 2s 29us/step - loss: 0.2863 - accuracy: 0.8956 - val_loss: 0.4679 - val_accuracy: 0.8470\n",
      "Epoch 77/100\n",
      "57000/57000 [==============================] - 2s 29us/step - loss: 0.2848 - accuracy: 0.8950 - val_loss: 0.4558 - val_accuracy: 0.8467\n",
      "Epoch 78/100\n",
      "57000/57000 [==============================] - 2s 29us/step - loss: 0.2827 - accuracy: 0.8967 - val_loss: 0.4529 - val_accuracy: 0.8523\n",
      "Epoch 79/100\n",
      "57000/57000 [==============================] - 2s 29us/step - loss: 0.2798 - accuracy: 0.8978 - val_loss: 0.4528 - val_accuracy: 0.8507\n",
      "Epoch 80/100\n",
      "57000/57000 [==============================] - 2s 29us/step - loss: 0.2775 - accuracy: 0.8982 - val_loss: 0.5001 - val_accuracy: 0.8317\n",
      "Epoch 81/100\n",
      "57000/57000 [==============================] - 2s 29us/step - loss: 0.2765 - accuracy: 0.8984 - val_loss: 0.4671 - val_accuracy: 0.8523\n",
      "Epoch 82/100\n",
      "57000/57000 [==============================] - 2s 30us/step - loss: 0.2744 - accuracy: 0.8980 - val_loss: 0.4512 - val_accuracy: 0.8513\n",
      "Epoch 83/100\n",
      "57000/57000 [==============================] - 2s 29us/step - loss: 0.2732 - accuracy: 0.8996 - val_loss: 0.4604 - val_accuracy: 0.8523\n",
      "Epoch 84/100\n",
      "57000/57000 [==============================] - 2s 30us/step - loss: 0.2711 - accuracy: 0.9008 - val_loss: 0.4570 - val_accuracy: 0.8557\n",
      "Epoch 85/100\n",
      "57000/57000 [==============================] - 2s 30us/step - loss: 0.2686 - accuracy: 0.9008 - val_loss: 0.5066 - val_accuracy: 0.8413\n",
      "Epoch 86/100\n",
      "57000/57000 [==============================] - 2s 29us/step - loss: 0.2677 - accuracy: 0.9018 - val_loss: 0.4732 - val_accuracy: 0.8523\n",
      "Epoch 87/100\n",
      "57000/57000 [==============================] - 2s 34us/step - loss: 0.2658 - accuracy: 0.9028 - val_loss: 0.4530 - val_accuracy: 0.8537\n",
      "Epoch 88/100\n",
      "57000/57000 [==============================] - 2s 37us/step - loss: 0.2653 - accuracy: 0.9026 - val_loss: 0.4525 - val_accuracy: 0.8547\n",
      "Epoch 89/100\n",
      "57000/57000 [==============================] - 2s 32us/step - loss: 0.2630 - accuracy: 0.9040 - val_loss: 0.4653 - val_accuracy: 0.8510\n",
      "Epoch 90/100\n",
      "57000/57000 [==============================] - 2s 33us/step - loss: 0.2612 - accuracy: 0.9051 - val_loss: 0.4608 - val_accuracy: 0.8523\n",
      "Epoch 91/100\n",
      "57000/57000 [==============================] - 2s 30us/step - loss: 0.2597 - accuracy: 0.9049 - val_loss: 0.4775 - val_accuracy: 0.8453\n",
      "Epoch 92/100\n",
      "57000/57000 [==============================] - 2s 29us/step - loss: 0.2588 - accuracy: 0.9047 - val_loss: 0.4574 - val_accuracy: 0.8547\n",
      "Epoch 93/100\n",
      "57000/57000 [==============================] - 2s 30us/step - loss: 0.2561 - accuracy: 0.9067 - val_loss: 0.4576 - val_accuracy: 0.8563\n",
      "Epoch 94/100\n",
      "57000/57000 [==============================] - 2s 30us/step - loss: 0.2556 - accuracy: 0.9065 - val_loss: 0.4635 - val_accuracy: 0.8533\n",
      "Epoch 95/100\n",
      "57000/57000 [==============================] - 2s 29us/step - loss: 0.2536 - accuracy: 0.9068 - val_loss: 0.4851 - val_accuracy: 0.8440\n",
      "Epoch 96/100\n",
      "57000/57000 [==============================] - 2s 29us/step - loss: 0.2522 - accuracy: 0.9077 - val_loss: 0.4989 - val_accuracy: 0.8447\n",
      "Epoch 97/100\n",
      "57000/57000 [==============================] - 2s 29us/step - loss: 0.2509 - accuracy: 0.9086 - val_loss: 0.4544 - val_accuracy: 0.8540\n",
      "Epoch 98/100\n",
      "57000/57000 [==============================] - 2s 29us/step - loss: 0.2497 - accuracy: 0.9082 - val_loss: 0.4689 - val_accuracy: 0.8550\n",
      "Epoch 99/100\n",
      "57000/57000 [==============================] - 2s 30us/step - loss: 0.2490 - accuracy: 0.9088 - val_loss: 0.4671 - val_accuracy: 0.8530\n",
      "Epoch 100/100\n",
      "57000/57000 [==============================] - 2s 29us/step - loss: 0.2463 - accuracy: 0.9097 - val_loss: 0.4611 - val_accuracy: 0.8567\n"
     ]
    }
   ],
   "source": [
    "history = model.fit(X_train1, y_train1, epochs=100, validation_data = (X_val, y_val))"
   ]
  },
  {
   "cell_type": "code",
   "execution_count": 20,
   "metadata": {},
   "outputs": [],
   "source": [
    "y_pred = model.predict(X_test, verbose=2)"
   ]
  },
  {
   "cell_type": "code",
   "execution_count": 21,
   "metadata": {},
   "outputs": [
    {
     "data": {
      "image/png": "[encoded data removed]",
      "text/plain": [
       "<Figure size 432x288 with 1 Axes>"
      ]
     },
     "metadata": {
      "needs_background": "light"
     },
     "output_type": "display_data"
    }
   ],
   "source": [
    "training_loss = history.history[\"loss\"]\n",
    "plt.plot([x for x in range(0,len(training_loss))], training_loss)\n",
    "plt.xlabel(\"Epoch\")\n",
    "plt.ylabel(\"Training Loss\")\n",
    "plt.show()"
   ]
  },
  {
   "cell_type": "code",
   "execution_count": 22,
   "metadata": {},
   "outputs": [
    {
     "name": "stdout",
     "output_type": "stream",
     "text": [
      "Test accuracy: 85.5%\n"
     ]
    }
   ],
   "source": [
    "y_predFinal = np.argmax(y_pred, axis=1)\n",
    "acc = (y_predFinal == y_test).mean()\n",
    "print(\"Test accuracy: {0}%\".format(acc*100))"
   ]
  },
  {
   "cell_type": "code",
   "execution_count": 23,
   "metadata": {},
   "outputs": [
    {
     "name": "stdout",
     "output_type": "stream",
     "text": [
      "Confusion Matrix:\n",
      "[[821   0  10  41   2   3 116   0   6   1]\n",
      " [  0 960   1  28   7   0   4   0   0   0]\n",
      " [ 10   2 786  15  93   1  88   0   5   0]\n",
      " [ 30  12  10 882  29   0  32   0   5   0]\n",
      " [  1   3 128  55 735   0  75   0   3   0]\n",
      " [  0   0   0   0   0 943   0  27   9  21]\n",
      " [172   1 118  37  70   0 596   0   6   0]\n",
      " [  0   0   0   0   1  32   0 931   1  35]\n",
      " [  6   0   6  10   2  10  20   4 942   0]\n",
      " [  1   0   0   0   0   8   0  35   2 954]]\n"
     ]
    }
   ],
   "source": [
    "# Confusion matrix\n",
    "cm = metrics.confusion_matrix(y_test, y_predFinal)\n",
    "print(\"Confusion Matrix:\")\n",
    "print(cm)"
   ]
  },
  {
   "cell_type": "markdown",
   "metadata": {},
   "source": [
    "## Convolutional Neural Network with keras (TensorFlow backend)"
   ]
  },
  {
   "cell_type": "code",
   "execution_count": 24,
   "metadata": {},
   "outputs": [],
   "source": [
    "model = keras.Sequential()\n",
    "\n",
    "# Define Convolutional and Max-pooling layers\n",
    "model.add(keras.layers.Conv2D(filters=64, kernel_size=3, padding='same', activation='relu', input_shape = (28,28,1))) \n",
    "model.add(keras.layers.MaxPooling2D(pool_size=2))\n",
    "\n",
    "model.add(keras.layers.Conv2D(filters=32, kernel_size=3, padding='same', activation='relu'))\n",
    "model.add(keras.layers.MaxPooling2D(pool_size=2))\n",
    "\n",
    "model.add(keras.layers.Flatten())\n",
    "model.add(keras.layers.Dense(256, activation='relu'))\n",
    "model.add(keras.layers.Dense(10, activation='softmax'))"
   ]
  },
  {
   "cell_type": "code",
   "execution_count": 25,
   "metadata": {},
   "outputs": [],
   "source": [
    "sgd = keras.optimizers.SGD(learning_rate=0.0005)\n",
    "model.compile(optimizer=sgd,\n",
    "              loss='sparse_categorical_crossentropy',\n",
    "              metrics=['accuracy'])"
   ]
  },
  {
   "cell_type": "code",
   "execution_count": 26,
   "metadata": {},
   "outputs": [
    {
     "name": "stdout",
     "output_type": "stream",
     "text": [
      "Train on 57000 samples, validate on 3000 samples\n",
      "Epoch 1/10\n",
      "57000/57000 [==============================] - 44s 771us/step - loss: 0.6369 - accuracy: 0.7963 - val_loss: 0.4920 - val_accuracy: 0.8253\n",
      "Epoch 2/10\n",
      "57000/57000 [==============================] - 40s 710us/step - loss: 0.4059 - accuracy: 0.8587 - val_loss: 0.4419 - val_accuracy: 0.8437\n",
      "Epoch 3/10\n",
      "57000/57000 [==============================] - 42s 736us/step - loss: 0.3596 - accuracy: 0.8732 - val_loss: 0.3963 - val_accuracy: 0.8570\n",
      "Epoch 4/10\n",
      "57000/57000 [==============================] - 45s 792us/step - loss: 0.3313 - accuracy: 0.8827 - val_loss: 0.3651 - val_accuracy: 0.8703\n",
      "Epoch 5/10\n",
      "57000/57000 [==============================] - 44s 768us/step - loss: 0.3104 - accuracy: 0.8900 - val_loss: 0.3514 - val_accuracy: 0.8710\n",
      "Epoch 6/10\n",
      "57000/57000 [==============================] - 44s 764us/step - loss: 0.2956 - accuracy: 0.8955 - val_loss: 0.3873 - val_accuracy: 0.8620\n",
      "Epoch 7/10\n",
      "57000/57000 [==============================] - 44s 766us/step - loss: 0.2824 - accuracy: 0.8997 - val_loss: 0.3835 - val_accuracy: 0.8627\n",
      "Epoch 8/10\n",
      "57000/57000 [==============================] - 45s 795us/step - loss: 0.2707 - accuracy: 0.9043 - val_loss: 0.3295 - val_accuracy: 0.8830\n",
      "Epoch 9/10\n",
      "57000/57000 [==============================] - 50s 878us/step - loss: 0.2614 - accuracy: 0.9073 - val_loss: 0.3316 - val_accuracy: 0.8830\n",
      "Epoch 10/10\n",
      "57000/57000 [==============================] - 47s 820us/step - loss: 0.2530 - accuracy: 0.9095 - val_loss: 0.3156 - val_accuracy: 0.8890\n"
     ]
    }
   ],
   "source": [
    "X_train1 = X_train1.reshape(X_train1.shape[0], 28, 28, 1)\n",
    "X_val = X_val.reshape(X_val.shape[0], 28, 28, 1)\n",
    "history = model.fit(X_train1, y_train1, batch_size=32, epochs=10, validation_data=(X_val, y_val))"
   ]
  },
  {
   "cell_type": "code",
   "execution_count": 27,
   "metadata": {},
   "outputs": [],
   "source": [
    "X_test = X_test.reshape(X_test.shape[0], 28, 28, 1)"
   ]
  },
  {
   "cell_type": "code",
   "execution_count": 28,
   "metadata": {},
   "outputs": [],
   "source": [
    "y_pred = model.predict(X_test, verbose=2)\n",
    "y_predFinal = np.argmax(y_pred, axis=1)"
   ]
  },
  {
   "cell_type": "code",
   "execution_count": 29,
   "metadata": {},
   "outputs": [
    {
     "data": {
      "image/png": "[encoded data removed]",
      "text/plain": [
       "<Figure size 432x288 with 1 Axes>"
      ]
     },
     "metadata": {
      "needs_background": "light"
     },
     "output_type": "display_data"
    }
   ],
   "source": [
    "training_loss = history.history[\"loss\"]\n",
    "plt.plot([x for x in range(0,len(training_loss))], training_loss)\n",
    "plt.xlabel(\"Epoch\")\n",
    "plt.ylabel(\"Training Loss\")\n",
    "plt.show()"
   ]
  },
  {
   "cell_type": "code",
   "execution_count": 30,
   "metadata": {},
   "outputs": [
    {
     "name": "stdout",
     "output_type": "stream",
     "text": [
      "Test accuracy: 88.94%\n"
     ]
    }
   ],
   "source": [
    "acc = (y_predFinal == y_test).mean()\n",
    "print(\"Test accuracy: {0}%\".format(acc*100))"
   ]
  },
  {
   "cell_type": "code",
   "execution_count": 31,
   "metadata": {},
   "outputs": [
    {
     "name": "stdout",
     "output_type": "stream",
     "text": [
      "Confusion Matrix:\n",
      "[[841   0  15  25   5   4 102   0   8   0]\n",
      " [  3 972   0  17   4   0   2   0   2   0]\n",
      " [ 16   0 837   8  68   0  70   0   1   0]\n",
      " [ 21   5  11 884  38   0  39   0   2   0]\n",
      " [  3   1  82  24 814   0  75   0   1   0]\n",
      " [  0   0   0   0   0 970   0  21   0   9]\n",
      " [130   1  75  26  65   0 687   0  16   0]\n",
      " [  0   0   0   0   0  15   0 970   0  15]\n",
      " [  3   0   5   3   2   2   3   5 977   0]\n",
      " [  1   0   0   0   0   5   0  50   2 942]]\n"
     ]
    }
   ],
   "source": [
    "# Confusion matrix\n",
    "cm = metrics.confusion_matrix(y_test, y_predFinal)\n",
    "print(\"Confusion Matrix:\")\n",
    "print(cm)"
   ]
  },
  {
   "cell_type": "code",
   "execution_count": null,
   "metadata": {},
   "outputs": [],
   "source": []
  }
 ],
 "metadata": {
  "kernelspec": {
   "display_name": "Python 3",
   "language": "python",
   "name": "python3"
  },
  "language_info": {
   "codemirror_mode": {
    "name": "ipython",
    "version": 3
   },
   "file_extension": ".py",
   "mimetype": "text/x-python",
   "name": "python",
   "nbconvert_exporter": "python",
   "pygments_lexer": "ipython3",
   "version": "3.7.3"
  }
 },
 "nbformat": 4,
 "nbformat_minor": 2
}
