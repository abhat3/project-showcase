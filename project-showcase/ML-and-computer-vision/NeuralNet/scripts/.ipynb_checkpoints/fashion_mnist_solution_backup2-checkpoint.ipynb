{
 "cells": [
  {
   "cell_type": "code",
   "execution_count": 1,
   "metadata": {},
   "outputs": [],
   "source": [
    "# Read Fashion MNIST dataset\n",
    "\n",
    "import util_mnist_reader\n",
    "X_train, y_train = util_mnist_reader.load_mnist('../data/fashion', kind='train')\n",
    "X_test, y_test = util_mnist_reader.load_mnist('../data/fashion', kind='t10k')"
   ]
  },
  {
   "cell_type": "code",
   "execution_count": 2,
   "metadata": {},
   "outputs": [],
   "source": [
    "# import necessary libraries here\n",
    "import numpy as np\n",
    "import pandas as pd\n",
    "from sklearn import model_selection\n",
    "import matplotlib.pyplot as plt\n",
    "\n",
    "%matplotlib inline"
   ]
  },
  {
   "cell_type": "markdown",
   "metadata": {},
   "source": [
    "## Neural Network with one hidden layer from scratch"
   ]
  },
  {
   "cell_type": "code",
   "execution_count": 3,
   "metadata": {},
   "outputs": [],
   "source": [
    "# use train_test_split to extract a small portion of training data for validation as well\n",
    "X_train1, X_val, y_train1, y_val = model_selection.train_test_split(X_train, y_train, test_size = 0.05, random_state = 7)"
   ]
  },
  {
   "cell_type": "code",
   "execution_count": 4,
   "metadata": {},
   "outputs": [],
   "source": [
    "class NeuralNet():\n",
    "    def __init__(self, num_samples, input_columns, num_hidden, num_classes):\n",
    "        # seed to generate the same random weights each time the model is initialized\n",
    "        # it can be changed to get different weights\n",
    "        np.random.seed(0)\n",
    "        # we mulitply the random values by 'He inititialization hueristic' \n",
    "        # to avoid log(0) problems or the vanishing gradient\n",
    "        self.W1 = np.sqrt(2/num_samples) * np.random.randn(input_columns, num_hidden)\n",
    "        self.b1 = np.zeros((1, num_hidden))\n",
    "        self.W2 = np.sqrt(2/num_samples) * np.random.randn(num_hidden, num_classes)\n",
    "        self.b2 = np.zeros((1, num_classes))\n",
    "    \n",
    "    def ReLU(self, X):\n",
    "        # leaky ReLU to avoid the problem of dying ReLU where the ReLU does not help in learning when the weights\n",
    "        # of a neuron in the hidden layer become negative\n",
    "        # value of omega can be arbitrarily selected, it is usually something small \n",
    "        omega = 0.02\n",
    "        return np.maximum(omega*X, X)\n",
    "    \n",
    "    def softmax(self, X):\n",
    "        # calculate stable softmax by normalizing the values with respect to the max in a particular row \n",
    "        # i.e., max in a row is the max value of a pixel in one sample\n",
    "        # NOTE that calculating the max or the sum along axis 0 would lead to wrong computation of the softmax\n",
    "        # because we would be calculating column wise which makes no sense because each row is one sample(which is what we want)\n",
    "        # and each column is one pixel of all samples(we do not want this!)\n",
    "        exps = np.exp(X - np.max(X, axis=1, keepdims=True))\n",
    "        return exps / np.sum(exps, axis=1, keepdims=True)\n",
    "    \n",
    "    def forward_pass(self, X, y):\n",
    "        # calculate hidden layer activation and output layer activation\n",
    "        z1 = np.dot(X, self.W1) + self.b1\n",
    "        a1 = self.ReLU(z1)\n",
    "        z2 = np.dot(a1, self.W2) + self.b2\n",
    "        a2 = self.softmax(z2)\n",
    "        return a1, a2\n",
    "    \n",
    "    def calc_loss(self, fp_result, y):\n",
    "        num_samples = y.shape[0]\n",
    "        \n",
    "        # calculate loss for the softmax function \n",
    "        # NOTE multidimensional array indexing to calculate loss only for relevant class categories of each sample\n",
    "        log_likelihood = -np.log(fp_result[range(num_samples), y])\n",
    "        loss = np.sum(log_likelihood) / num_samples\n",
    "        return loss\n",
    "    \n",
    "    def backPropagation(self, X, y, activation1_result, fp_result):\n",
    "        num_samples = X.shape[0]\n",
    "        \n",
    "        # gradient of loss function: \n",
    "        # We exploit multidimensional array indexing instead of having to one hot encode y \n",
    "        # and then subtract its value from the relevant class\n",
    "        fp_result[range(num_samples), y] -= 1\n",
    "        fp_result = fp_result / num_samples\n",
    "        \n",
    "        # calculate gradients of the weights and biases of each layer and return them\n",
    "        dz2 = fp_result\n",
    "        \n",
    "        dW2 = np.dot(activation1_result.T, dz2)\n",
    "        db2 = np.sum(dz2, axis=0, keepdims=True)\n",
    "        \n",
    "        # the gradient of a ReLU is 0 for values less than or 0, and 1 for values greater than 0\n",
    "        dz1 = np.dot(dz2, self.W2.T)\n",
    "        dz1[activation1_result <= 0] = 0 \n",
    " \n",
    "        dW1 = np.dot(X.T, dz1)\n",
    "        db1 = np.sum(dz1, axis=0, keepdims=True)\n",
    "        \n",
    "        return dW1, db1, dW2, db2\n",
    "        \n",
    "    \n",
    "    def train_model(self, X, y, X_val, y_val, epochs = 10, learning_rate = 0.0003, batch_size = 32):\n",
    "        train_loss = []\n",
    "        validation_acc = []\n",
    "        num_samples = X.shape[0]\n",
    "        \n",
    "        # calculate number of iterations it takes to complete one epoch with batch_size \n",
    "        iterations = int(num_samples / batch_size)\n",
    "        \n",
    "        # train the model using mini-batch gradient descent for better generalization\n",
    "        for epoch in range(epochs * iterations):\n",
    "            X_batch = None\n",
    "            y_batch = None\n",
    "            \n",
    "            sample_index = np.random.choice(num_samples, batch_size, replace=True)   \n",
    "            X_batch = X[sample_index, :]          \n",
    "            y_batch = y[sample_index] \n",
    "            \n",
    "            activation1_result, fp_result = self.forward_pass(X_batch, y_batch)\n",
    "            train_loss.append(self.calc_loss(fp_result, y_batch))\n",
    "            dW1, db1, dW2, db2 = self.backPropagation(X_batch, y_batch, activation1_result, fp_result)\n",
    "            \n",
    "            # update the weights and biases after one full pass i.e., 1 forward pass + 1 back pass\n",
    "            self.W1 -= learning_rate * dW1\n",
    "            self.b1 -= learning_rate * db1\n",
    "            self.W2 -= learning_rate * dW2\n",
    "            self.b2 -= learning_rate * db2\n",
    "            \n",
    "            # After every epoch calculate validation accuracy\n",
    "            if epoch % iterations == 0:\n",
    "                validation_acc.append((self.predict(X_val) == y_val).mean())\n",
    "            \n",
    "        return train_loss, validation_acc\n",
    "    \n",
    "    def predict(self, X):\n",
    "        # apply activation at hidden layer and find which class has maximum probability\n",
    "        z1 = np.dot(X, self.W1) + self.b1\n",
    "        a1 = self.ReLU(z1)\n",
    "        z2 = np.dot(a1, self.W2) + self.b2\n",
    "        a2 = self.softmax(z2)\n",
    "        y_pred = np.argmax(a2, axis=1)\n",
    "        return y_pred"
   ]
  },
  {
   "cell_type": "code",
   "execution_count": 5,
   "metadata": {},
   "outputs": [],
   "source": [
    "neuralNet = NeuralNet(X_train1.shape[0], X_train1.shape[1], 10, 10)"
   ]
  },
  {
   "cell_type": "code",
   "execution_count": 6,
   "metadata": {},
   "outputs": [],
   "source": [
    "loss, val_acc = neuralNet.train_model(X_train1, y_train1, X_val, y_val)"
   ]
  },
  {
   "cell_type": "code",
   "execution_count": 7,
   "metadata": {},
   "outputs": [],
   "source": [
    "acc = (neuralNet.predict(X_test) == y_test).mean()"
   ]
  },
  {
   "cell_type": "code",
   "execution_count": 8,
   "metadata": {},
   "outputs": [
    {
     "name": "stdout",
     "output_type": "stream",
     "text": [
      "Test accuracy: 84.58%\n"
     ]
    }
   ],
   "source": [
    "print(\"Test accuracy: {0}%\".format(acc*100))"
   ]
  },
  {
   "cell_type": "code",
   "execution_count": 9,
   "metadata": {
    "scrolled": true
   },
   "outputs": [
    {
     "data": {
      "image/png": "[encoded data removed]",
      "text/plain": [
       "<Figure size 432x288 with 1 Axes>"
      ]
     },
     "metadata": {
      "needs_background": "light"
     },
     "output_type": "display_data"
    }
   ],
   "source": [
    "# plot training loss vs epoch\n",
    "default_batch_size = 32\n",
    "plt.plot([x for x in range(0,len(loss),default_batch_size)], [loss[x] for x in range(0,len(loss),default_batch_size)])\n",
    "plt.xlabel(\"Epoch * Iterations\")\n",
    "plt.ylabel(\"Training Loss\")\n",
    "plt.show()"
   ]
  },
  {
   "cell_type": "code",
   "execution_count": 10,
   "metadata": {},
   "outputs": [
    {
     "data": {
      "image/png": "[encoded data removed]",
      "text/plain": [
       "<Figure size 432x288 with 1 Axes>"
      ]
     },
     "metadata": {
      "needs_background": "light"
     },
     "output_type": "display_data"
    }
   ],
   "source": [
    "# plot training loss vs epoch\n",
    "plt.plot([x for x in range(0,len(val_acc))], val_acc)\n",
    "plt.xlabel(\"Epoch\")\n",
    "plt.ylabel(\"Validation Accuracy\")\n",
    "plt.show()"
   ]
  },
  {
   "cell_type": "markdown",
   "metadata": {},
   "source": [
    "## Multi-layer Neural Network using Keras (TensorFlow backend)"
   ]
  },
  {
   "cell_type": "code",
   "execution_count": 11,
   "metadata": {},
   "outputs": [
    {
     "name": "stderr",
     "output_type": "stream",
     "text": [
      "Using TensorFlow backend.\n"
     ]
    }
   ],
   "source": [
    "import keras"
   ]
  },
  {
   "cell_type": "code",
   "execution_count": 64,
   "metadata": {},
   "outputs": [],
   "source": [
    "# Multi-layer neural network with 3 hidden layers with ReLU activation \n",
    "model = keras.Sequential([\n",
    "    keras.layers.Dense(128, activation='relu'),\n",
    "    keras.layers.Dense(64, activation='relu'),\n",
    "    keras.layers.Dense(32, activation='relu'),\n",
    "    keras.layers.Dense(10, activation='softmax')\n",
    "])\n",
    "sgd = keras.optimizers.SGD(learning_rate=0.0005)\n",
    "model.compile(optimizer=sgd,\n",
    "              loss='sparse_categorical_crossentropy',\n",
    "              metrics=['accuracy'])"
   ]
  },
  {
   "cell_type": "code",
   "execution_count": 66,
   "metadata": {},
   "outputs": [
    {
     "name": "stdout",
     "output_type": "stream",
     "text": [
      "Epoch 1/100\n",
      "60000/60000 [==============================] - 2s 28us/step - loss: 0.3451 - accuracy: 0.8722\n",
      "Epoch 2/100\n",
      "60000/60000 [==============================] - 2s 28us/step - loss: 0.3416 - accuracy: 0.8736\n",
      "Epoch 3/100\n",
      "60000/60000 [==============================] - 2s 28us/step - loss: 0.3387 - accuracy: 0.8739\n",
      "Epoch 4/100\n",
      "60000/60000 [==============================] - 2s 29us/step - loss: 0.3349 - accuracy: 0.8755\n",
      "Epoch 5/100\n",
      "60000/60000 [==============================] - 2s 28us/step - loss: 0.3318 - accuracy: 0.8767\n",
      "Epoch 6/100\n",
      "60000/60000 [==============================] - 2s 28us/step - loss: 0.3290 - accuracy: 0.8777\n",
      "Epoch 7/100\n",
      "60000/60000 [==============================] - 2s 28us/step - loss: 0.3256 - accuracy: 0.8780\n",
      "Epoch 8/100\n",
      "60000/60000 [==============================] - 2s 28us/step - loss: 0.3226 - accuracy: 0.8802\n",
      "Epoch 9/100\n",
      "60000/60000 [==============================] - 2s 28us/step - loss: 0.3197 - accuracy: 0.8811\n",
      "Epoch 10/100\n",
      "60000/60000 [==============================] - 2s 28us/step - loss: 0.3176 - accuracy: 0.8817\n",
      "Epoch 11/100\n",
      "60000/60000 [==============================] - 2s 30us/step - loss: 0.3153 - accuracy: 0.8833\n",
      "Epoch 12/100\n",
      "60000/60000 [==============================] - 2s 29us/step - loss: 0.3129 - accuracy: 0.8833\n",
      "Epoch 13/100\n",
      "60000/60000 [==============================] - 2s 28us/step - loss: 0.3102 - accuracy: 0.8844\n",
      "Epoch 14/100\n",
      "60000/60000 [==============================] - 2s 28us/step - loss: 0.3081 - accuracy: 0.8857\n",
      "Epoch 15/100\n",
      "60000/60000 [==============================] - 2s 29us/step - loss: 0.3054 - accuracy: 0.8860\n",
      "Epoch 16/100\n",
      "60000/60000 [==============================] - 2s 30us/step - loss: 0.3033 - accuracy: 0.8875\n",
      "Epoch 17/100\n",
      "60000/60000 [==============================] - 2s 28us/step - loss: 0.3005 - accuracy: 0.8886\n",
      "Epoch 18/100\n",
      "60000/60000 [==============================] - 2s 28us/step - loss: 0.2987 - accuracy: 0.8875\n",
      "Epoch 19/100\n",
      "60000/60000 [==============================] - 2s 28us/step - loss: 0.2966 - accuracy: 0.8894\n",
      "Epoch 20/100\n",
      "60000/60000 [==============================] - 2s 28us/step - loss: 0.2948 - accuracy: 0.8900\n",
      "Epoch 21/100\n",
      "60000/60000 [==============================] - 2s 28us/step - loss: 0.2921 - accuracy: 0.8915\n",
      "Epoch 22/100\n",
      "60000/60000 [==============================] - 2s 28us/step - loss: 0.2907 - accuracy: 0.8924\n",
      "Epoch 23/100\n",
      "60000/60000 [==============================] - 2s 29us/step - loss: 0.2882 - accuracy: 0.8927\n",
      "Epoch 24/100\n",
      "60000/60000 [==============================] - 2s 29us/step - loss: 0.2864 - accuracy: 0.8935\n",
      "Epoch 25/100\n",
      "60000/60000 [==============================] - 2s 28us/step - loss: 0.2850 - accuracy: 0.8943\n",
      "Epoch 26/100\n",
      "60000/60000 [==============================] - 2s 28us/step - loss: 0.2826 - accuracy: 0.8944\n",
      "Epoch 27/100\n",
      "60000/60000 [==============================] - 2s 28us/step - loss: 0.2812 - accuracy: 0.8951\n",
      "Epoch 28/100\n",
      "60000/60000 [==============================] - 2s 28us/step - loss: 0.2792 - accuracy: 0.8963\n",
      "Epoch 29/100\n",
      "60000/60000 [==============================] - 2s 28us/step - loss: 0.2776 - accuracy: 0.8968\n",
      "Epoch 30/100\n",
      "60000/60000 [==============================] - 2s 28us/step - loss: 0.2756 - accuracy: 0.8986\n",
      "Epoch 31/100\n",
      "60000/60000 [==============================] - 2s 29us/step - loss: 0.2746 - accuracy: 0.8975\n",
      "Epoch 32/100\n",
      "60000/60000 [==============================] - 2s 30us/step - loss: 0.2726 - accuracy: 0.8987\n",
      "Epoch 33/100\n",
      "60000/60000 [==============================] - 2s 29us/step - loss: 0.2712 - accuracy: 0.8991\n",
      "Epoch 34/100\n",
      "60000/60000 [==============================] - 2s 28us/step - loss: 0.2696 - accuracy: 0.8993\n",
      "Epoch 35/100\n",
      "60000/60000 [==============================] - 2s 29us/step - loss: 0.2680 - accuracy: 0.9002\n",
      "Epoch 36/100\n",
      "60000/60000 [==============================] - 2s 28us/step - loss: 0.2666 - accuracy: 0.9003\n",
      "Epoch 37/100\n",
      "60000/60000 [==============================] - 2s 29us/step - loss: 0.2648 - accuracy: 0.9018\n",
      "Epoch 38/100\n",
      "60000/60000 [==============================] - 2s 28us/step - loss: 0.2641 - accuracy: 0.9017\n",
      "Epoch 39/100\n",
      "60000/60000 [==============================] - 2s 28us/step - loss: 0.2623 - accuracy: 0.9026\n",
      "Epoch 40/100\n",
      "60000/60000 [==============================] - 2s 28us/step - loss: 0.2610 - accuracy: 0.9032\n",
      "Epoch 41/100\n",
      "60000/60000 [==============================] - 2s 29us/step - loss: 0.2598 - accuracy: 0.9024\n",
      "Epoch 42/100\n",
      "60000/60000 [==============================] - 2s 28us/step - loss: 0.2579 - accuracy: 0.9047\n",
      "Epoch 43/100\n",
      "60000/60000 [==============================] - 2s 29us/step - loss: 0.2565 - accuracy: 0.9042\n",
      "Epoch 44/100\n",
      "60000/60000 [==============================] - 2s 31us/step - loss: 0.2553 - accuracy: 0.9054\n",
      "Epoch 45/100\n",
      "60000/60000 [==============================] - 2s 29us/step - loss: 0.2542 - accuracy: 0.9064\n",
      "Epoch 46/100\n",
      "60000/60000 [==============================] - 2s 29us/step - loss: 0.2535 - accuracy: 0.9060\n",
      "Epoch 47/100\n",
      "60000/60000 [==============================] - 2s 29us/step - loss: 0.2517 - accuracy: 0.9059\n",
      "Epoch 48/100\n",
      "60000/60000 [==============================] - 2s 30us/step - loss: 0.2498 - accuracy: 0.9066\n",
      "Epoch 49/100\n",
      "60000/60000 [==============================] - 2s 29us/step - loss: 0.2495 - accuracy: 0.9075\n",
      "Epoch 50/100\n",
      "60000/60000 [==============================] - 2s 28us/step - loss: 0.2478 - accuracy: 0.9078\n",
      "Epoch 51/100\n",
      "60000/60000 [==============================] - 2s 29us/step - loss: 0.2471 - accuracy: 0.9077\n",
      "Epoch 52/100\n",
      "60000/60000 [==============================] - 2s 29us/step - loss: 0.2460 - accuracy: 0.9086\n",
      "Epoch 53/100\n",
      "60000/60000 [==============================] - 2s 29us/step - loss: 0.2443 - accuracy: 0.9084\n",
      "Epoch 54/100\n",
      "60000/60000 [==============================] - 2s 29us/step - loss: 0.2436 - accuracy: 0.9094\n",
      "Epoch 55/100\n",
      "60000/60000 [==============================] - 2s 29us/step - loss: 0.2422 - accuracy: 0.9101\n",
      "Epoch 56/100\n",
      "60000/60000 [==============================] - 2s 29us/step - loss: 0.2410 - accuracy: 0.9107\n",
      "Epoch 57/100\n",
      "60000/60000 [==============================] - 2s 29us/step - loss: 0.2399 - accuracy: 0.9107\n",
      "Epoch 58/100\n",
      "60000/60000 [==============================] - 2s 29us/step - loss: 0.2388 - accuracy: 0.9106\n",
      "Epoch 59/100\n",
      "60000/60000 [==============================] - 2s 28us/step - loss: 0.2377 - accuracy: 0.9110\n",
      "Epoch 60/100\n",
      "60000/60000 [==============================] - 2s 28us/step - loss: 0.2372 - accuracy: 0.9108\n",
      "Epoch 61/100\n",
      "60000/60000 [==============================] - 2s 28us/step - loss: 0.2354 - accuracy: 0.9120\n",
      "Epoch 62/100\n",
      "60000/60000 [==============================] - 2s 28us/step - loss: 0.2346 - accuracy: 0.9128\n",
      "Epoch 63/100\n",
      "60000/60000 [==============================] - 2s 28us/step - loss: 0.2335 - accuracy: 0.9125\n",
      "Epoch 64/100\n",
      "60000/60000 [==============================] - 2s 30us/step - loss: 0.2320 - accuracy: 0.9139\n",
      "Epoch 65/100\n",
      "60000/60000 [==============================] - 2s 28us/step - loss: 0.2317 - accuracy: 0.9122\n",
      "Epoch 66/100\n",
      "60000/60000 [==============================] - 2s 29us/step - loss: 0.2307 - accuracy: 0.9137\n",
      "Epoch 67/100\n",
      "60000/60000 [==============================] - 2s 29us/step - loss: 0.2291 - accuracy: 0.9145\n",
      "Epoch 68/100\n",
      "60000/60000 [==============================] - 2s 29us/step - loss: 0.2290 - accuracy: 0.9147\n",
      "Epoch 69/100\n",
      "60000/60000 [==============================] - 2s 29us/step - loss: 0.2271 - accuracy: 0.9152\n",
      "Epoch 70/100\n",
      "60000/60000 [==============================] - 2s 28us/step - loss: 0.2266 - accuracy: 0.9146\n",
      "Epoch 71/100\n",
      "60000/60000 [==============================] - 2s 28us/step - loss: 0.2252 - accuracy: 0.9155\n",
      "Epoch 72/100\n",
      "60000/60000 [==============================] - 2s 29us/step - loss: 0.2249 - accuracy: 0.9158\n",
      "Epoch 73/100\n",
      "60000/60000 [==============================] - 2s 29us/step - loss: 0.2235 - accuracy: 0.9166\n",
      "Epoch 74/100\n",
      "60000/60000 [==============================] - 2s 29us/step - loss: 0.2229 - accuracy: 0.9172\n",
      "Epoch 75/100\n",
      "60000/60000 [==============================] - 2s 29us/step - loss: 0.2218 - accuracy: 0.9173\n",
      "Epoch 76/100\n",
      "60000/60000 [==============================] - 2s 29us/step - loss: 0.2207 - accuracy: 0.9169\n",
      "Epoch 77/100\n"
     ]
    },
    {
     "name": "stdout",
     "output_type": "stream",
     "text": [
      "60000/60000 [==============================] - 2s 28us/step - loss: 0.2190 - accuracy: 0.9182\n",
      "Epoch 78/100\n",
      "60000/60000 [==============================] - 2s 28us/step - loss: 0.2186 - accuracy: 0.9180\n",
      "Epoch 79/100\n",
      "60000/60000 [==============================] - 2s 28us/step - loss: 0.2179 - accuracy: 0.9191\n",
      "Epoch 80/100\n",
      "60000/60000 [==============================] - 2s 28us/step - loss: 0.2167 - accuracy: 0.9186\n",
      "Epoch 81/100\n",
      "60000/60000 [==============================] - 2s 28us/step - loss: 0.2162 - accuracy: 0.9200\n",
      "Epoch 82/100\n",
      "60000/60000 [==============================] - 2s 28us/step - loss: 0.2153 - accuracy: 0.9199\n",
      "Epoch 83/100\n",
      "60000/60000 [==============================] - 2s 29us/step - loss: 0.2140 - accuracy: 0.9198\n",
      "Epoch 84/100\n",
      "60000/60000 [==============================] - 2s 29us/step - loss: 0.2135 - accuracy: 0.9202\n",
      "Epoch 85/100\n",
      "60000/60000 [==============================] - 2s 29us/step - loss: 0.2127 - accuracy: 0.9203\n",
      "Epoch 86/100\n",
      "60000/60000 [==============================] - 2s 28us/step - loss: 0.2116 - accuracy: 0.9212\n",
      "Epoch 87/100\n",
      "60000/60000 [==============================] - 2s 29us/step - loss: 0.2104 - accuracy: 0.9219\n",
      "Epoch 88/100\n",
      "60000/60000 [==============================] - 2s 29us/step - loss: 0.2101 - accuracy: 0.9212\n",
      "Epoch 89/100\n",
      "60000/60000 [==============================] - 2s 28us/step - loss: 0.2088 - accuracy: 0.9217\n",
      "Epoch 90/100\n",
      "60000/60000 [==============================] - 2s 28us/step - loss: 0.2082 - accuracy: 0.9225\n",
      "Epoch 91/100\n",
      "60000/60000 [==============================] - 2s 28us/step - loss: 0.2072 - accuracy: 0.9228\n",
      "Epoch 92/100\n",
      "60000/60000 [==============================] - 2s 27us/step - loss: 0.2060 - accuracy: 0.9238\n",
      "Epoch 93/100\n",
      "60000/60000 [==============================] - 2s 27us/step - loss: 0.2059 - accuracy: 0.9229\n",
      "Epoch 94/100\n",
      "60000/60000 [==============================] - 2s 27us/step - loss: 0.2047 - accuracy: 0.9230\n",
      "Epoch 95/100\n",
      "60000/60000 [==============================] - 2s 27us/step - loss: 0.2045 - accuracy: 0.9237\n",
      "Epoch 96/100\n",
      "60000/60000 [==============================] - 2s 27us/step - loss: 0.2035 - accuracy: 0.9243\n",
      "Epoch 97/100\n",
      "60000/60000 [==============================] - 2s 27us/step - loss: 0.2020 - accuracy: 0.9244\n",
      "Epoch 98/100\n",
      "60000/60000 [==============================] - 2s 28us/step - loss: 0.2027 - accuracy: 0.9238\n",
      "Epoch 99/100\n",
      "60000/60000 [==============================] - 2s 28us/step - loss: 0.2013 - accuracy: 0.9246\n",
      "Epoch 100/100\n",
      "60000/60000 [==============================] - 2s 29us/step - loss: 0.2002 - accuracy: 0.9250\n"
     ]
    }
   ],
   "source": [
    "model.fit(X_train, y_train, epochs=100)\n",
    "test_loss, test_acc = model.evaluate(X_test, y_test, verbose=2)"
   ]
  },
  {
   "cell_type": "code",
   "execution_count": null,
   "metadata": {},
   "outputs": [],
   "source": []
  },
  {
   "cell_type": "markdown",
   "metadata": {},
   "source": [
    "## Convolutional Neural Network with keras (TensorFlow backend)"
   ]
  },
  {
   "cell_type": "code",
   "execution_count": null,
   "metadata": {},
   "outputs": [],
   "source": []
  }
 ],
 "metadata": {
  "kernelspec": {
   "display_name": "Python 3",
   "language": "python",
   "name": "python3"
  },
  "language_info": {
   "codemirror_mode": {
    "name": "ipython",
    "version": 3
   },
   "file_extension": ".py",
   "mimetype": "text/x-python",
   "name": "python",
   "nbconvert_exporter": "python",
   "pygments_lexer": "ipython3",
   "version": "3.7.3"
  }
 },
 "nbformat": 4,
 "nbformat_minor": 2
}
